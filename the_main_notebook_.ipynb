{
 "cells": [
  {
   "cell_type": "code",
   "execution_count": 4,
   "id": "9080f03a",
   "metadata": {},
   "outputs": [],
   "source": [
    "import pandas as pd\n",
    "from bs4 import BeautifulSoup\n",
    "import requests"
   ]
  },
  {
   "cell_type": "code",
   "execution_count": 302,
   "id": "fc264735",
   "metadata": {},
   "outputs": [],
   "source": [
    "url = \"https://www.jumia.com.eg/generic-masaty-um-9011-gold-plated-jewelry-set-for-women-22371416.html\""
   ]
  },
  {
   "cell_type": "code",
   "execution_count": 303,
   "id": "5ab33744",
   "metadata": {},
   "outputs": [],
   "source": [
    "content = requests.get(url).content"
   ]
  },
  {
   "cell_type": "code",
   "execution_count": 304,
   "id": "b176a36e",
   "metadata": {},
   "outputs": [],
   "source": [
    "soup = BeautifulSoup(content)"
   ]
  },
  {
   "cell_type": "code",
   "execution_count": 305,
   "id": "98f052f7",
   "metadata": {},
   "outputs": [
    {
     "data": {
      "text/plain": [
       "'Generic Masaty UM-9011 Gold Plated Jewelry Set For Women @ Best Price Online | Jumia Egypt'"
      ]
     },
     "execution_count": 305,
     "metadata": {},
     "output_type": "execute_result"
    }
   ],
   "source": [
    "# the name of the product\n",
    "\n",
    "title = soup.find(\"title\")\n",
    "title = title.contents[0]\n",
    "title\n"
   ]
  },
  {
   "cell_type": "code",
   "execution_count": 308,
   "id": "b6db2da6",
   "metadata": {},
   "outputs": [
    {
     "data": {
      "text/plain": [
       "'0 o'"
      ]
     },
     "execution_count": 308,
     "metadata": {},
     "output_type": "execute_result"
    }
   ],
   "source": [
    "# the total rating\n",
    "total_rating = soup.find(\"div\", class_ = \"stars _s _al\")\n",
    "total_rating = total_rating.contents[0]\n",
    "total_rating = total_rating[:3]\n",
    "total_rating"
   ]
  },
  {
   "cell_type": "code",
   "execution_count": 309,
   "id": "c5b0ac87",
   "metadata": {},
   "outputs": [
    {
     "data": {
      "text/plain": [
       "15"
      ]
     },
     "execution_count": 309,
     "metadata": {},
     "output_type": "execute_result"
    }
   ],
   "source": [
    "# the discount on the product\n",
    "\n",
    "discount = soup.find(\"span\", class_ = \"bdg _dsct _dyn -mls\")\n",
    "discount = discount.contents[0]\n",
    "discount = discount.replace(\"%\", \"\")\n",
    "discount = int(discount)\n",
    "discount"
   ]
  },
  {
   "cell_type": "code",
   "execution_count": 314,
   "id": "82738af4",
   "metadata": {},
   "outputs": [
    {
     "data": {
      "text/plain": [
       "'3,304.80'"
      ]
     },
     "execution_count": 314,
     "metadata": {},
     "output_type": "execute_result"
    }
   ],
   "source": [
    "# price after discount\n",
    "\n",
    "after_price = soup.find(\"span\", class_ = \"-b -ltr -tal -fs24\")\n",
    "after_price = after_price.contents[0]\n",
    "after_price = after_price[4: ]\n",
    "after_price"
   ]
  },
  {
   "cell_type": "code",
   "execution_count": 315,
   "id": "c616b4f7",
   "metadata": {},
   "outputs": [
    {
     "data": {
      "text/plain": [
       "'3,888.00'"
      ]
     },
     "execution_count": 315,
     "metadata": {},
     "output_type": "execute_result"
    }
   ],
   "source": [
    "# original price\n",
    "\n",
    "original_price = soup.find(\"span\", class_ = \"-tal -gy5 -lthr -fs16\")\n",
    "original_price = original_price.contents[0]\n",
    "original_price = original_price[4: ]\n",
    "original_price"
   ]
  },
  {
   "cell_type": "code",
   "execution_count": 317,
   "id": "020fb091",
   "metadata": {},
   "outputs": [
    {
     "data": {
      "text/plain": [
       "'No'"
      ]
     },
     "execution_count": 317,
     "metadata": {},
     "output_type": "execute_result"
    }
   ],
   "source": [
    "# num of rating\n",
    "\n",
    "num_rating = soup.find(\"a\", class_ = \"-plxs _more\")\n",
    "num_rating = num_rating.contents[0]\n",
    "num_rating = num_rating[1: 3]\n",
    "num_rating"
   ]
  },
  {
   "cell_type": "code",
   "execution_count": null,
   "id": "42148c87",
   "metadata": {},
   "outputs": [],
   "source": []
  }
 ],
 "metadata": {
  "kernelspec": {
   "display_name": "Python 3 (ipykernel)",
   "language": "python",
   "name": "python3"
  },
  "language_info": {
   "codemirror_mode": {
    "name": "ipython",
    "version": 3
   },
   "file_extension": ".py",
   "mimetype": "text/x-python",
   "name": "python",
   "nbconvert_exporter": "python",
   "pygments_lexer": "ipython3",
   "version": "3.8.15"
  }
 },
 "nbformat": 4,
 "nbformat_minor": 5
}
