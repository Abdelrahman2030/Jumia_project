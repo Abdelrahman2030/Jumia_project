{
 "cells": [
  {
   "cell_type": "markdown",
   "id": "0c8ba54f",
   "metadata": {},
   "source": [
    "This the upadate of the project the other version finds the first 40 products, i want to find the links for the next page and apply the same old one"
   ]
  },
  {
   "cell_type": "code",
   "execution_count": 59,
   "id": "30788599",
   "metadata": {},
   "outputs": [],
   "source": [
    "import pandas as pd\n",
    "from bs4 import BeautifulSoup\n",
    "import requests\n",
    "import time"
   ]
  },
  {
   "cell_type": "code",
   "execution_count": 62,
   "id": "e6e7bb11",
   "metadata": {},
   "outputs": [],
   "source": [
    "url = \"https://www.jumia.com.eg/catalog/?q=jacket\""
   ]
  },
  {
   "cell_type": "code",
   "execution_count": 63,
   "id": "71888f3a",
   "metadata": {},
   "outputs": [],
   "source": [
    "content = requests.get(url).content"
   ]
  },
  {
   "cell_type": "code",
   "execution_count": 64,
   "id": "9d4f0611",
   "metadata": {},
   "outputs": [],
   "source": [
    "soup = BeautifulSoup(content)"
   ]
  },
  {
   "cell_type": "code",
   "execution_count": null,
   "id": "c53b0330",
   "metadata": {},
   "outputs": [],
   "source": []
  },
  {
   "cell_type": "code",
   "execution_count": 61,
   "id": "ff6f470a",
   "metadata": {},
   "outputs": [
    {
     "data": {
      "text/plain": [
       "1683220069.3790312"
      ]
     },
     "execution_count": 61,
     "metadata": {},
     "output_type": "execute_result"
    }
   ],
   "source": [
    "time.time()"
   ]
  },
  {
   "cell_type": "code",
   "execution_count": null,
   "id": "2def1d55",
   "metadata": {},
   "outputs": [],
   "source": []
  }
 ],
 "metadata": {
  "kernelspec": {
   "display_name": "Python [conda env:new] *",
   "language": "python",
   "name": "conda-env-new-py"
  },
  "language_info": {
   "codemirror_mode": {
    "name": "ipython",
    "version": 3
   },
   "file_extension": ".py",
   "mimetype": "text/x-python",
   "name": "python",
   "nbconvert_exporter": "python",
   "pygments_lexer": "ipython3",
   "version": "3.8.15"
  }
 },
 "nbformat": 4,
 "nbformat_minor": 5
}
