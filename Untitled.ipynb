{
 "cells": [
  {
   "cell_type": "markdown",
   "id": "bc957a96",
   "metadata": {},
   "source": [
    "This the upadate of the project the other version finds the first 40 products, i want to find the links for the next page and apply the same old one"
   ]
  },
  {
   "cell_type": "code",
   "execution_count": 33,
   "id": "db7a1179",
   "metadata": {},
   "outputs": [],
   "source": [
    "import pandas as pd\n",
    "import numpy as np\n",
    "from bs4 import BeautifulSoup\n",
    "import requests\n",
    "import time"
   ]
  },
  {
   "cell_type": "code",
   "execution_count": 65,
   "id": "bf93555d",
   "metadata": {},
   "outputs": [],
   "source": [
    "url = \"https://www.jumia.com.eg/american-eagle-sherpa-denim-jacket-39534739.html\""
   ]
  },
  {
   "cell_type": "code",
   "execution_count": 66,
   "id": "08e4b48b",
   "metadata": {},
   "outputs": [],
   "source": [
    "content = requests.get(url).content"
   ]
  },
  {
   "cell_type": "code",
   "execution_count": 67,
   "id": "d1a73988",
   "metadata": {},
   "outputs": [],
   "source": [
    "soup = BeautifulSoup(content)"
   ]
  },
  {
   "cell_type": "code",
   "execution_count": 71,
   "id": "78ed7e19",
   "metadata": {},
   "outputs": [
    {
     "data": {
      "text/plain": [
       "<p class=\"-fs16 -pts\">4 verified ratings</p>"
      ]
     },
     "execution_count": 71,
     "metadata": {},
     "output_type": "execute_result"
    }
   ],
   "source": [
    "soup.find_all(text = \"4 verified ratings\")[0].parent"
   ]
  },
  {
   "cell_type": "code",
   "execution_count": 2,
   "id": "197e827f",
   "metadata": {},
   "outputs": [],
   "source": [
    "url = \"https://www.jumia.com.eg/catalog/?q=jacket\""
   ]
  },
  {
   "cell_type": "code",
   "execution_count": 3,
   "id": "47916710",
   "metadata": {},
   "outputs": [],
   "source": [
    "content = requests.get(url).content"
   ]
  },
  {
   "cell_type": "code",
   "execution_count": 4,
   "id": "a5101d3d",
   "metadata": {},
   "outputs": [],
   "source": [
    "soup = BeautifulSoup(content)"
   ]
  },
  {
   "cell_type": "code",
   "execution_count": 5,
   "id": "6804b92a",
   "metadata": {},
   "outputs": [
    {
     "data": {
      "text/plain": [
       "<div class=\"info\"><div class=\"bdg _mall _xs\">Official Store</div><h3 class=\"name\">American Eagle Workwear Jacket</h3><div class=\"prc\">EGP 1,250.00</div><div class=\"s-prc-w\"><div class=\"old\">EGP 2,500.00</div><div class=\"bdg _dsct _sm\">50%</div></div><div class=\"rev\"><div class=\"stars _s\">4.4 out of 5<div class=\"in\" style=\"width:88.00000000000001%\"></div></div>(8)</div><svg aria-label=\"Express Shipping\" class=\"ic xprss\" height=\"10\" viewbox=\"0 0 114 12\" width=\"94\"><use xlink:href=\"https://www.jumia.com.eg/assets_he/images/i-shop-jumia.9f5451c7.svg#express\"></use></svg></div>"
      ]
     },
     "execution_count": 5,
     "metadata": {},
     "output_type": "execute_result"
    }
   ],
   "source": [
    "soup.find(text = \"American Eagle Workwear Jacket\").parent.parent"
   ]
  },
  {
   "cell_type": "code",
   "execution_count": 6,
   "id": "fd228b58",
   "metadata": {},
   "outputs": [
    {
     "data": {
      "text/plain": [
       "<div class=\"rev\"><div class=\"stars _s\">4.4 out of 5<div class=\"in\" style=\"width:88.00000000000001%\"></div></div>(8)</div>"
      ]
     },
     "execution_count": 6,
     "metadata": {},
     "output_type": "execute_result"
    }
   ],
   "source": [
    "soup.find(text = \"(8)\").parent"
   ]
  },
  {
   "cell_type": "markdown",
   "id": "2f7a7657",
   "metadata": {},
   "source": [
    "**The below code is the solution to find the number of ratings**"
   ]
  },
  {
   "cell_type": "code",
   "execution_count": 9,
   "id": "2c63b381",
   "metadata": {},
   "outputs": [],
   "source": [
    "div_list = soup.find_all(\"div\", class_ = \"info\") # creats a list with all prodcuts in the page"
   ]
  },
  {
   "cell_type": "code",
   "execution_count": 130,
   "id": "732eddef",
   "metadata": {},
   "outputs": [
    {
     "data": {
      "text/plain": [
       "'<div class=\"rev\"><div class=\"stars _s\">5 out of 5<div class=\"in\" style=\"width:100%\"></div></div>(2)</div>'"
      ]
     },
     "execution_count": 130,
     "metadata": {},
     "output_type": "execute_result"
    }
   ],
   "source": [
    "rating_div_parent = str(div_list[1].find_all(\"div\", class_ = \"rev\")[0])\n",
    "rating_div_parent # finds the div of the reviews"
   ]
  },
  {
   "cell_type": "code",
   "execution_count": 131,
   "id": "34bba458",
   "metadata": {},
   "outputs": [
    {
     "data": {
      "text/plain": [
       "'style=\"width:100%\"></div></div>(2)</div>'"
      ]
     },
     "execution_count": 131,
     "metadata": {},
     "output_type": "execute_result"
    }
   ],
   "source": [
    "rating_place = rating_div_parent.split()[8] # removed all the noise in the div\n",
    "rating_place "
   ]
  },
  {
   "cell_type": "code",
   "execution_count": 132,
   "id": "13b121ae",
   "metadata": {},
   "outputs": [
    {
     "data": {
      "text/plain": [
       "['style=\"width:100%\"></div></div>', '2)</div>']"
      ]
     },
     "execution_count": 132,
     "metadata": {},
     "output_type": "execute_result"
    }
   ],
   "source": [
    "rating_place.split(\"(\")"
   ]
  },
  {
   "cell_type": "code",
   "execution_count": 133,
   "id": "6f88fb59",
   "metadata": {},
   "outputs": [
    {
     "data": {
      "text/plain": [
       "['2', '</div>']"
      ]
     },
     "execution_count": 133,
     "metadata": {},
     "output_type": "execute_result"
    }
   ],
   "source": [
    "rating_place.split(\"(\")[1].split(\")\")"
   ]
  },
  {
   "cell_type": "code",
   "execution_count": 134,
   "id": "eff99754",
   "metadata": {},
   "outputs": [
    {
     "data": {
      "text/plain": [
       "'2'"
      ]
     },
     "execution_count": 134,
     "metadata": {},
     "output_type": "execute_result"
    }
   ],
   "source": [
    "number_of_ratings = rating_place.split(\"(\")[1].split(\")\")[0]\n",
    "number_of_ratings"
   ]
  },
  {
   "cell_type": "code",
   "execution_count": 137,
   "id": "e53aaf33",
   "metadata": {},
   "outputs": [],
   "source": [
    "for div in div_list:\n",
    "    \n",
    "    try:\n",
    "        rating_div_parent = str(div.find_all(\"div\", class_ = \"rev\")[0]) # finds the div of the reviews\n",
    "        rating_place = rating_div_parent.split()[8] # removed all the noise in the div\n",
    "        number_of_ratings = rating_place.split(\"(\")[1].split(\")\")[0] # splits the string many times\n",
    "        # until we finish with the number of ratings\n",
    "        \n",
    "    except:\n",
    "        number_of_ratings = 0\n"
   ]
  },
  {
   "cell_type": "code",
   "execution_count": 138,
   "id": "57e6154a",
   "metadata": {},
   "outputs": [],
   "source": [
    "x = 4.66557"
   ]
  },
  {
   "cell_type": "code",
   "execution_count": 140,
   "id": "c94b04e5",
   "metadata": {},
   "outputs": [
    {
     "data": {
      "text/plain": [
       "4.67"
      ]
     },
     "execution_count": 140,
     "metadata": {},
     "output_type": "execute_result"
    }
   ],
   "source": [
    "round(x, 2)"
   ]
  },
  {
   "cell_type": "code",
   "execution_count": 14,
   "id": "b58fb987",
   "metadata": {},
   "outputs": [
    {
     "data": {
      "text/plain": [
       "'Official Store'"
      ]
     },
     "execution_count": 14,
     "metadata": {},
     "output_type": "execute_result"
    }
   ],
   "source": [
    "div_list[0].find(text = \"Official Store\")"
   ]
  },
  {
   "cell_type": "code",
   "execution_count": 16,
   "id": "927db6f1",
   "metadata": {},
   "outputs": [
    {
     "data": {
      "text/plain": [
       "<div class=\"info\"><div class=\"bdg _mall _xs\">Official Store</div><h3 class=\"name\">American Eagle Reversible Vest</h3><div class=\"prc\">EGP 1,050.00</div><div class=\"s-prc-w\"><div class=\"old\">EGP 2,100.00</div><div class=\"bdg _dsct _sm\">50%</div></div><div class=\"rev\"><div class=\"stars _s\">5 out of 5<div class=\"in\" style=\"width:100%\"></div></div>(4)</div><svg aria-label=\"Express Shipping\" class=\"ic xprss\" height=\"10\" viewbox=\"0 0 114 12\" width=\"94\"><use xlink:href=\"https://www.jumia.com.eg/assets_he/images/i-shop-jumia.9f5451c7.svg#express\"></use></svg></div>"
      ]
     },
     "execution_count": 16,
     "metadata": {},
     "output_type": "execute_result"
    }
   ],
   "source": [
    "div_list[0]"
   ]
  },
  {
   "cell_type": "code",
   "execution_count": 19,
   "id": "146755cd",
   "metadata": {},
   "outputs": [],
   "source": [
    "# The following code is going to extract the brand of the clothes"
   ]
  },
  {
   "cell_type": "code",
   "execution_count": 34,
   "id": "113e15ac",
   "metadata": {},
   "outputs": [],
   "source": [
    "brand_list = []\n",
    "for div in div_list:\n",
    "    product_name = div_list[0].find(\"h3\", class_ = \"name\").contents[0]\n",
    "    if len(div.find_all(text = \"Official Store\")) != 0:\n",
    "        brand_name = product_name.split()[0].lower()\n",
    "    else:\n",
    "        brand_name = np.nan\n",
    "    brand_list.append(brand_name)"
   ]
  },
  {
   "cell_type": "code",
   "execution_count": 24,
   "id": "5b03b77c",
   "metadata": {},
   "outputs": [],
   "source": [
    "product_name = div_list[0].find(\"h3\", class_ = \"name\").contents[0]"
   ]
  },
  {
   "cell_type": "code",
   "execution_count": 30,
   "id": "254a2bbb",
   "metadata": {},
   "outputs": [],
   "source": [
    "brand_name = product_name.split()[0].lower()"
   ]
  },
  {
   "cell_type": "code",
   "execution_count": 31,
   "id": "2c7c97bd",
   "metadata": {},
   "outputs": [
    {
     "data": {
      "text/plain": [
       "'american'"
      ]
     },
     "execution_count": 31,
     "metadata": {},
     "output_type": "execute_result"
    }
   ],
   "source": [
    "brand_name"
   ]
  },
  {
   "cell_type": "code",
   "execution_count": null,
   "id": "9d260a05",
   "metadata": {},
   "outputs": [],
   "source": [
    "# this will idetify where it's made"
   ]
  },
  {
   "cell_type": "code",
   "execution_count": 18,
   "id": "0d27e709",
   "metadata": {},
   "outputs": [
    {
     "data": {
      "text/plain": [
       "<span class=\"bdg _xs camp\" style=\"color:#FFFFFF;background:#FF0000;\">Made in Egypt</span>"
      ]
     },
     "execution_count": 18,
     "metadata": {},
     "output_type": "execute_result"
    }
   ],
   "source": [
    "soup.find_all(text = \"Made in Egypt\")[0].parent"
   ]
  },
  {
   "cell_type": "code",
   "execution_count": 42,
   "id": "2f8a52c6",
   "metadata": {},
   "outputs": [
    {
     "data": {
      "text/plain": [
       "'<span class=\"bdg _xs camp\" style=\"color:#FFFFFF;background:#FF0000;\">Made in Egypt</span>'"
      ]
     },
     "execution_count": 42,
     "metadata": {},
     "output_type": "execute_result"
    }
   ],
   "source": [
    "span = str(soup.find_all(\"span\", class_ = \"bdg _xs camp\")[0])\n",
    "span"
   ]
  },
  {
   "cell_type": "code",
   "execution_count": 46,
   "id": "a925cbc5",
   "metadata": {},
   "outputs": [
    {
     "data": {
      "text/plain": [
       "'Made in Egypt'"
      ]
     },
     "execution_count": 46,
     "metadata": {},
     "output_type": "execute_result"
    }
   ],
   "source": [
    "span.split(\">\")[1].split(\"<\")[0]"
   ]
  },
  {
   "cell_type": "code",
   "execution_count": null,
   "id": "4a01618a",
   "metadata": {},
   "outputs": [],
   "source": []
  }
 ],
 "metadata": {
  "kernelspec": {
   "display_name": "Python [conda env:new] *",
   "language": "python",
   "name": "conda-env-new-py"
  },
  "language_info": {
   "codemirror_mode": {
    "name": "ipython",
    "version": 3
   },
   "file_extension": ".py",
   "mimetype": "text/x-python",
   "name": "python",
   "nbconvert_exporter": "python",
   "pygments_lexer": "ipython3",
   "version": "3.8.15"
  }
 },
 "nbformat": 4,
 "nbformat_minor": 5
}
